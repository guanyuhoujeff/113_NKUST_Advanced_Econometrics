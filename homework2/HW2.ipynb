{
 "cells": [
  {
   "cell_type": "markdown",
   "id": "674b518a-ba19-41db-8c78-a0ff83bf5c30",
   "metadata": {},
   "source": [
    "![範例圖片](https://github.com/guanyuhoujeff/113_NKUST_Advanced_Econometrics/blob/main/homework2/HW2-exam.png?raw=true)\n",
    "![範例圖片](https://github.com/guanyuhoujeff/113_NKUST_Advanced_Econometrics/blob/main/homework2/HW2-hint.png?raw=true)"
   ]
  },
  {
   "cell_type": "code",
   "execution_count": 6,
   "id": "cfe34edb-870f-4545-b88d-4ee9f6983608",
   "metadata": {},
   "outputs": [
    {
     "name": "stdout",
     "output_type": "stream",
     "text": [
      "Looking in indexes: https://pypi.org/simple, https://pypi.ngc.nvidia.com\n",
      "Requirement already satisfied: scipy in c:\\users\\jeffg\\anaconda3\\envs\\moody\\lib\\site-packages (1.12.0)\n",
      "Collecting yfinance\n",
      "  Obtaining dependency information for yfinance from https://files.pythonhosted.org/packages/39/29/89572cb0c65b07a1c4e5cd53eb0a0f947f2ece53fef6ed7da90cfab7d2a9/yfinance-0.2.43-py2.py3-none-any.whl.metadata\n",
      "  Downloading yfinance-0.2.43-py2.py3-none-any.whl.metadata (11 kB)\n",
      "Requirement already satisfied: numpy in c:\\users\\jeffg\\anaconda3\\envs\\moody\\lib\\site-packages (1.23.5)\n",
      "Requirement already satisfied: pandas>=1.3.0 in c:\\users\\jeffg\\anaconda3\\envs\\moody\\lib\\site-packages (from yfinance) (2.2.2)\n",
      "Requirement already satisfied: requests>=2.31 in c:\\users\\jeffg\\anaconda3\\envs\\moody\\lib\\site-packages (from yfinance) (2.31.0)\n",
      "Collecting multitasking>=0.0.7 (from yfinance)\n",
      "  Obtaining dependency information for multitasking>=0.0.7 from https://files.pythonhosted.org/packages/3e/8a/bb3160e76e844db9e69a413f055818969c8acade64e1a9ac5ce9dfdcf6c1/multitasking-0.0.11-py3-none-any.whl.metadata\n",
      "  Downloading multitasking-0.0.11-py3-none-any.whl.metadata (5.5 kB)\n",
      "Requirement already satisfied: lxml>=4.9.1 in c:\\users\\jeffg\\anaconda3\\envs\\moody\\lib\\site-packages (from yfinance) (4.9.3)\n",
      "Requirement already satisfied: platformdirs>=2.0.0 in c:\\users\\jeffg\\anaconda3\\envs\\moody\\lib\\site-packages (from yfinance) (3.10.0)\n",
      "Requirement already satisfied: pytz>=2022.5 in c:\\users\\jeffg\\anaconda3\\envs\\moody\\lib\\site-packages (from yfinance) (2023.3)\n",
      "Collecting frozendict>=2.3.4 (from yfinance)\n",
      "  Obtaining dependency information for frozendict>=2.3.4 from https://files.pythonhosted.org/packages/1b/50/59e6b4723f4c2fb607bfacbe4f7289a8076444cba187c83ed05f6e2818e7/frozendict-2.4.4-cp39-cp39-win_amd64.whl.metadata\n",
      "  Downloading frozendict-2.4.4-cp39-cp39-win_amd64.whl.metadata (23 kB)\n",
      "Collecting peewee>=3.16.2 (from yfinance)\n",
      "  Downloading peewee-3.17.6.tar.gz (3.0 MB)\n",
      "     ---------------------------------------- 0.0/3.0 MB ? eta -:--:--\n",
      "      --------------------------------------- 0.0/3.0 MB 991.0 kB/s eta 0:00:03\n",
      "     - -------------------------------------- 0.1/3.0 MB 1.1 MB/s eta 0:00:03\n",
      "     -- ------------------------------------- 0.2/3.0 MB 1.2 MB/s eta 0:00:03\n",
      "     --- ------------------------------------ 0.2/3.0 MB 1.4 MB/s eta 0:00:02\n",
      "     ---- ----------------------------------- 0.3/3.0 MB 1.5 MB/s eta 0:00:02\n",
      "     ----- ---------------------------------- 0.4/3.0 MB 1.5 MB/s eta 0:00:02\n",
      "     ------ --------------------------------- 0.5/3.0 MB 1.5 MB/s eta 0:00:02\n",
      "     ------- -------------------------------- 0.5/3.0 MB 1.5 MB/s eta 0:00:02\n",
      "     -------- ------------------------------- 0.6/3.0 MB 1.6 MB/s eta 0:00:02\n",
      "     --------- ------------------------------ 0.7/3.0 MB 1.7 MB/s eta 0:00:02\n",
      "     ----------- ---------------------------- 0.8/3.0 MB 1.7 MB/s eta 0:00:02\n",
      "     ------------ --------------------------- 0.9/3.0 MB 1.8 MB/s eta 0:00:02\n",
      "     -------------- ------------------------- 1.0/3.0 MB 1.7 MB/s eta 0:00:02\n",
      "     --------------- ------------------------ 1.2/3.0 MB 1.8 MB/s eta 0:00:01\n",
      "     ----------------- ---------------------- 1.3/3.0 MB 1.9 MB/s eta 0:00:01\n",
      "     ------------------ --------------------- 1.4/3.0 MB 1.9 MB/s eta 0:00:01\n",
      "     -------------------- ------------------- 1.5/3.0 MB 2.0 MB/s eta 0:00:01\n",
      "     ---------------------- ----------------- 1.6/3.0 MB 2.0 MB/s eta 0:00:01\n",
      "     ----------------------- ---------------- 1.8/3.0 MB 2.0 MB/s eta 0:00:01\n",
      "     ------------------------- -------------- 1.9/3.0 MB 2.1 MB/s eta 0:00:01\n",
      "     --------------------------- ------------ 2.0/3.0 MB 2.1 MB/s eta 0:00:01\n",
      "     ----------------------------- ---------- 2.2/3.0 MB 2.2 MB/s eta 0:00:01\n",
      "     -------------------------------- ------- 2.4/3.0 MB 2.3 MB/s eta 0:00:01\n",
      "     --------------------------------- ------ 2.5/3.0 MB 2.3 MB/s eta 0:00:01\n",
      "     ------------------------------------ --- 2.7/3.0 MB 2.4 MB/s eta 0:00:01\n",
      "     ---------------------------------------  2.9/3.0 MB 2.4 MB/s eta 0:00:01\n",
      "     ---------------------------------------- 3.0/3.0 MB 2.5 MB/s eta 0:00:00\n",
      "  Installing build dependencies: started\n",
      "  Installing build dependencies: finished with status 'done'\n",
      "  Getting requirements to build wheel: started\n",
      "  Getting requirements to build wheel: finished with status 'done'\n",
      "  Preparing metadata (pyproject.toml): started\n",
      "  Preparing metadata (pyproject.toml): finished with status 'done'\n",
      "Requirement already satisfied: beautifulsoup4>=4.11.1 in c:\\users\\jeffg\\anaconda3\\envs\\moody\\lib\\site-packages (from yfinance) (4.12.2)\n",
      "Collecting html5lib>=1.1 (from yfinance)\n",
      "  Obtaining dependency information for html5lib>=1.1 from https://files.pythonhosted.org/packages/6c/dd/a834df6482147d48e225a49515aabc28974ad5a4ca3215c18a882565b028/html5lib-1.1-py2.py3-none-any.whl.metadata\n",
      "  Downloading html5lib-1.1-py2.py3-none-any.whl.metadata (16 kB)\n",
      "Requirement already satisfied: soupsieve>1.2 in c:\\users\\jeffg\\anaconda3\\envs\\moody\\lib\\site-packages (from beautifulsoup4>=4.11.1->yfinance) (2.3.2.post1)\n",
      "Requirement already satisfied: six>=1.9 in c:\\users\\jeffg\\anaconda3\\envs\\moody\\lib\\site-packages (from html5lib>=1.1->yfinance) (1.16.0)\n",
      "Requirement already satisfied: webencodings in c:\\users\\jeffg\\anaconda3\\envs\\moody\\lib\\site-packages (from html5lib>=1.1->yfinance) (0.5.1)\n",
      "Requirement already satisfied: python-dateutil>=2.8.2 in c:\\users\\jeffg\\anaconda3\\envs\\moody\\lib\\site-packages (from pandas>=1.3.0->yfinance) (2.8.2)\n",
      "Requirement already satisfied: tzdata>=2022.7 in c:\\users\\jeffg\\anaconda3\\envs\\moody\\lib\\site-packages (from pandas>=1.3.0->yfinance) (2023.3)\n",
      "Requirement already satisfied: charset-normalizer<4,>=2 in c:\\users\\jeffg\\anaconda3\\envs\\moody\\lib\\site-packages (from requests>=2.31->yfinance) (3.2.0)\n",
      "Requirement already satisfied: idna<4,>=2.5 in c:\\users\\jeffg\\anaconda3\\envs\\moody\\lib\\site-packages (from requests>=2.31->yfinance) (3.4)\n",
      "Requirement already satisfied: urllib3<3,>=1.21.1 in c:\\users\\jeffg\\anaconda3\\envs\\moody\\lib\\site-packages (from requests>=2.31->yfinance) (2.0.4)\n",
      "Requirement already satisfied: certifi>=2017.4.17 in c:\\users\\jeffg\\anaconda3\\envs\\moody\\lib\\site-packages (from requests>=2.31->yfinance) (2024.2.2)\n",
      "Downloading yfinance-0.2.43-py2.py3-none-any.whl (84 kB)\n",
      "   ---------------------------------------- 0.0/84.6 kB ? eta -:--:--\n",
      "   ---------------------------------------- 84.6/84.6 kB ? eta 0:00:00\n",
      "Downloading frozendict-2.4.4-cp39-cp39-win_amd64.whl (37 kB)\n",
      "Downloading html5lib-1.1-py2.py3-none-any.whl (112 kB)\n",
      "   ---------------------------------------- 0.0/112.2 kB ? eta -:--:--\n",
      "   ---------------------------------------- 112.2/112.2 kB 3.3 MB/s eta 0:00:00\n",
      "Downloading multitasking-0.0.11-py3-none-any.whl (8.5 kB)\n",
      "Building wheels for collected packages: peewee\n",
      "  Building wheel for peewee (pyproject.toml): started\n",
      "  Building wheel for peewee (pyproject.toml): finished with status 'done'\n",
      "  Created wheel for peewee: filename=peewee-3.17.6-py3-none-any.whl size=138939 sha256=6f7f5922b6b12e7da5301d4cfb495a552970f04df0d6d572763d9e10fb769fa6\n",
      "  Stored in directory: C:\\Users\\jeffg\\AppData\\Local\\Temp\\pip-ephem-wheel-cache-paa122w2\\wheels\\3e\\23\\b4\\7729b2d48a34ee9d95c11f7f8dfd4ff0571a056e2691118b34\n",
      "Successfully built peewee\n",
      "Installing collected packages: peewee, multitasking, html5lib, frozendict, yfinance\n",
      "Successfully installed frozendict-2.4.4 html5lib-1.1 multitasking-0.0.11 peewee-3.17.6 yfinance-0.2.43\n"
     ]
    }
   ],
   "source": [
    "!pip install scipy yfinance numpy"
   ]
  },
  {
   "cell_type": "code",
   "execution_count": 7,
   "id": "e1ee98af-d390-4e27-b968-de647fbf478e",
   "metadata": {},
   "outputs": [],
   "source": [
    "import yfinance as yf\n",
    "from scipy.stats import norm\n",
    "import numpy as np"
   ]
  },
  {
   "cell_type": "markdown",
   "id": "d39a1e23-0640-4c21-a98d-9456112e9c64",
   "metadata": {},
   "source": [
    "# 1. data=[2 5 7 9 10], find E(data) and Var(data)"
   ]
  },
  {
   "cell_type": "code",
   "execution_count": 8,
   "id": "917ba659-e201-4fec-8fb7-2c6ba5a0919a",
   "metadata": {},
   "outputs": [
    {
     "name": "stdout",
     "output_type": "stream",
     "text": [
      "Mean of data: 6.6\n",
      "Variance of data: 8.24\n"
     ]
    }
   ],
   "source": [
    "data = np.array([2, 5, 7, 9, 10])\n",
    "\n",
    "# Calculate mean and variance\n",
    "mean_data = np.mean(data)\n",
    "var_data = np.var(data)\n",
    "\n",
    "print(\"Mean of data:\", mean_data)\n",
    "print(\"Variance of data:\", var_data)"
   ]
  },
  {
   "cell_type": "markdown",
   "id": "34ab0d9f-0502-46a7-8b8e-ec0f8fba91d8",
   "metadata": {},
   "source": [
    "# 2. Download TAIEX stock index daily prices and compute returns"
   ]
  },
  {
   "cell_type": "code",
   "execution_count": 9,
   "id": "1695520b-dbfc-4054-8e4b-b163f804b3fe",
   "metadata": {},
   "outputs": [
    {
     "name": "stderr",
     "output_type": "stream",
     "text": [
      "[*********************100%***********************]  1 of 1 completed\n"
     ]
    }
   ],
   "source": [
    "ticker = \"^TWII\"  # TAIEX stock index ticker\n",
    "taiex = yf.download(ticker, period=\"1y\")  # Download data for 1 year\n",
    "taiex['Returns'] = taiex['Adj Close'].pct_change().dropna()\n",
    "# Define RR (Returns)\n",
    "RR = taiex['Returns'].dropna()"
   ]
  },
  {
   "cell_type": "markdown",
   "id": "402a75f1-037d-4fe4-a540-b6ee6b1fd929",
   "metadata": {},
   "source": [
    "### (1)Compute m=E(RR) and v=Var(RR), assuming normal distribution."
   ]
  },
  {
   "cell_type": "code",
   "execution_count": 10,
   "id": "d0c3ee13-377e-4496-a3c8-19a0ec5e0929",
   "metadata": {},
   "outputs": [
    {
     "name": "stdout",
     "output_type": "stream",
     "text": [
      "Mean of RR: 0.0012982970491153575\n",
      "Variance of RR: 0.00016094123451998533\n"
     ]
    }
   ],
   "source": [
    "mean_RR = RR.mean()\n",
    "var_RR = RR.var()\n",
    "\n",
    "print(\"Mean of RR:\", mean_RR)\n",
    "print(\"Variance of RR:\", var_RR)"
   ]
  },
  {
   "cell_type": "markdown",
   "id": "58e32c70-508c-4108-ab49-d97e5bfc7280",
   "metadata": {},
   "source": [
    "### (2) Compute the probability that RR > 0 assuming normal distribution"
   ]
  },
  {
   "cell_type": "code",
   "execution_count": 11,
   "id": "cd168e7c-fc1b-408c-bda8-cf782ec241f2",
   "metadata": {},
   "outputs": [
    {
     "name": "stdout",
     "output_type": "stream",
     "text": [
      "Probability that RR > 0: 0.5407561284963288\n"
     ]
    }
   ],
   "source": [
    "prob = 1 - norm.cdf(0, loc=mean_RR, scale=np.sqrt(var_RR))\n",
    "\n",
    "print(\"Probability that RR > 0:\", prob)"
   ]
  },
  {
   "cell_type": "code",
   "execution_count": null,
   "id": "e2053195-b5c6-4212-9cc5-03c0dcbe28f3",
   "metadata": {},
   "outputs": [],
   "source": []
  },
  {
   "cell_type": "code",
   "execution_count": null,
   "id": "35351bde-1f9a-4a64-be28-7a29908e2257",
   "metadata": {},
   "outputs": [],
   "source": []
  }
 ],
 "metadata": {
  "kernelspec": {
   "display_name": "Python 3 (ipykernel)",
   "language": "python",
   "name": "python3"
  },
  "language_info": {
   "codemirror_mode": {
    "name": "ipython",
    "version": 3
   },
   "file_extension": ".py",
   "mimetype": "text/x-python",
   "name": "python",
   "nbconvert_exporter": "python",
   "pygments_lexer": "ipython3",
   "version": "3.9.17"
  }
 },
 "nbformat": 4,
 "nbformat_minor": 5
}
