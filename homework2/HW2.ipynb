{
 "cells": [
  {
   "cell_type": "markdown",
   "id": "674b518a-ba19-41db-8c78-a0ff83bf5c30",
   "metadata": {},
   "source": [
    "![範例圖片](https://github.com/guanyuhoujeff/113_NKUST_Advanced_Econometrics/blob/main/homework2/HW2-exam.png?raw=true)\n",
    "![範例圖片](https://github.com/guanyuhoujeff/113_NKUST_Advanced_Econometrics/blob/main/homework2/HW2-hint.png?raw=true)"
   ]
  },
  {
   "cell_type": "code",
   "execution_count": 1,
   "id": "cfe34edb-870f-4545-b88d-4ee9f6983608",
   "metadata": {},
   "outputs": [
    {
     "name": "stdout",
     "output_type": "stream",
     "text": [
      "Looking in indexes: https://pypi.org/simple, https://pypi.ngc.nvidia.com\n",
      "Requirement already satisfied: scipy in c:\\users\\jeffg\\anaconda3\\envs\\ecm\\lib\\site-packages (1.14.1)\n",
      "Requirement already satisfied: numpy<2.3,>=1.23.5 in c:\\users\\jeffg\\appdata\\roaming\\python\\python311\\site-packages (from scipy) (1.25.0)\n"
     ]
    },
    {
     "name": "stderr",
     "output_type": "stream",
     "text": [
      "\n",
      "[notice] A new release of pip is available: 23.1.2 -> 24.2\n",
      "[notice] To update, run: python.exe -m pip install --upgrade pip\n"
     ]
    }
   ],
   "source": [
    "!pip install scipy yfinance numpy"
   ]
  },
  {
   "cell_type": "code",
   "execution_count": 4,
   "id": "e1ee98af-d390-4e27-b968-de647fbf478e",
   "metadata": {},
   "outputs": [],
   "source": [
    "import yfinance as yf\n",
    "from scipy.stats import norm\n",
    "import numpy as np"
   ]
  },
  {
   "cell_type": "markdown",
   "id": "d39a1e23-0640-4c21-a98d-9456112e9c64",
   "metadata": {},
   "source": [
    "# 1: data=[2 5 7 9 10], find E(data) and Var(data)"
   ]
  },
  {
   "cell_type": "code",
   "execution_count": 5,
   "id": "917ba659-e201-4fec-8fb7-2c6ba5a0919a",
   "metadata": {},
   "outputs": [
    {
     "name": "stdout",
     "output_type": "stream",
     "text": [
      "Mean of data: 6.6\n",
      "Variance of data: 8.24\n"
     ]
    }
   ],
   "source": [
    "data = np.array([2, 5, 7, 9, 10])\n",
    "\n",
    "# Calculate mean and variance\n",
    "mean_data = np.mean(data)\n",
    "var_data = np.var(data)\n",
    "\n",
    "print(\"Mean of data:\", mean_data)\n",
    "print(\"Variance of data:\", var_data)"
   ]
  },
  {
   "cell_type": "markdown",
   "id": "34ab0d9f-0502-46a7-8b8e-ec0f8fba91d8",
   "metadata": {},
   "source": [
    "# 2. Download TAIEX stock index daily prices and compute returns"
   ]
  },
  {
   "cell_type": "code",
   "execution_count": 10,
   "id": "1695520b-dbfc-4054-8e4b-b163f804b3fe",
   "metadata": {},
   "outputs": [
    {
     "name": "stderr",
     "output_type": "stream",
     "text": [
      "[*********************100%***********************]  1 of 1 completed\n"
     ]
    }
   ],
   "source": [
    "ticker = \"^TWII\"  # TAIEX stock index ticker\n",
    "taiex = yf.download(ticker, period=\"1y\")  # Download data for 1 year\n",
    "taiex['Returns'] = taiex['Adj Close'].pct_change().dropna()\n",
    "# Define RR (Returns)\n",
    "RR = taiex['Returns'].dropna()"
   ]
  },
  {
   "cell_type": "markdown",
   "id": "402a75f1-037d-4fe4-a540-b6ee6b1fd929",
   "metadata": {},
   "source": [
    "### (1)Compute m=E(RR) and v=Var(RR), assuming normal distribution."
   ]
  },
  {
   "cell_type": "code",
   "execution_count": 11,
   "id": "d0c3ee13-377e-4496-a3c8-19a0ec5e0929",
   "metadata": {},
   "outputs": [
    {
     "name": "stdout",
     "output_type": "stream",
     "text": [
      "Mean of RR: 0.0014629971554475302\n",
      "Variance of RR: 0.00015764277368115673\n"
     ]
    }
   ],
   "source": [
    "mean_RR = RR.mean()\n",
    "var_RR = RR.var()\n",
    "\n",
    "print(\"Mean of RR:\", mean_RR)\n",
    "print(\"Variance of RR:\", var_RR)"
   ]
  },
  {
   "cell_type": "markdown",
   "id": "58e32c70-508c-4108-ab49-d97e5bfc7280",
   "metadata": {},
   "source": [
    "### (2) Compute the probability that RR > 0 assuming normal distribution"
   ]
  },
  {
   "cell_type": "code",
   "execution_count": 12,
   "id": "cd168e7c-fc1b-408c-bda8-cf782ec241f2",
   "metadata": {},
   "outputs": [
    {
     "name": "stdout",
     "output_type": "stream",
     "text": [
      "Probability that RR > 0: 0.5463804167164301\n"
     ]
    }
   ],
   "source": [
    "prob = 1 - norm.cdf(0, loc=mean_RR, scale=np.sqrt(var_RR))\n",
    "\n",
    "print(\"Probability that RR > 0:\", prob)"
   ]
  },
  {
   "cell_type": "code",
   "execution_count": null,
   "id": "e2053195-b5c6-4212-9cc5-03c0dcbe28f3",
   "metadata": {},
   "outputs": [],
   "source": []
  },
  {
   "cell_type": "code",
   "execution_count": null,
   "id": "35351bde-1f9a-4a64-be28-7a29908e2257",
   "metadata": {},
   "outputs": [],
   "source": []
  }
 ],
 "metadata": {
  "kernelspec": {
   "display_name": "Python 3 (ipykernel)",
   "language": "python",
   "name": "python3"
  },
  "language_info": {
   "codemirror_mode": {
    "name": "ipython",
    "version": 3
   },
   "file_extension": ".py",
   "mimetype": "text/x-python",
   "name": "python",
   "nbconvert_exporter": "python",
   "pygments_lexer": "ipython3",
   "version": "3.9.17"
  }
 },
 "nbformat": 4,
 "nbformat_minor": 5
}
