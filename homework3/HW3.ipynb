{
 "cells": [
  {
   "cell_type": "markdown",
   "id": "3e94bc83-d83b-4ec9-9ab0-f6022d145539",
   "metadata": {},
   "source": [
    "![範例圖片](https://github.com/guanyuhoujeff/113_NKUST_Advanced_Econometrics/blob/main/homework3/HW3-exam.png?raw=true)"
   ]
  },
  {
   "cell_type": "code",
   "execution_count": 1,
   "id": "bc1b0642-39c2-4bca-902f-486e9fe3ae8f",
   "metadata": {},
   "outputs": [],
   "source": [
    "# !pip install scipy yfinance numpy"
   ]
  },
  {
   "cell_type": "code",
   "execution_count": 2,
   "id": "605894b7-714b-4c56-91c8-e926d1c06fe4",
   "metadata": {},
   "outputs": [],
   "source": [
    "import yfinance as yf\n",
    "from scipy.stats import norm\n",
    "import numpy as np\n",
    "import pandas as pd"
   ]
  },
  {
   "cell_type": "markdown",
   "id": "cda2d30c-ce1f-4101-bc6c-67d7e108023c",
   "metadata": {},
   "source": [
    "1.台積電(tsmc)2019年的股價報酬率的基本統計分析"
   ]
  },
  {
   "cell_type": "code",
   "execution_count": 3,
   "id": "80713e1c-6f68-4b6b-9a22-0865583fc156",
   "metadata": {},
   "outputs": [
    {
     "name": "stderr",
     "output_type": "stream",
     "text": [
      "[*********************100%***********************]  1 of 1 completed\n"
     ]
    },
    {
     "data": {
      "text/html": [
       "<div>\n",
       "<style scoped>\n",
       "    .dataframe tbody tr th:only-of-type {\n",
       "        vertical-align: middle;\n",
       "    }\n",
       "\n",
       "    .dataframe tbody tr th {\n",
       "        vertical-align: top;\n",
       "    }\n",
       "\n",
       "    .dataframe thead th {\n",
       "        text-align: right;\n",
       "    }\n",
       "</style>\n",
       "<table border=\"1\" class=\"dataframe\">\n",
       "  <thead>\n",
       "    <tr style=\"text-align: right;\">\n",
       "      <th></th>\n",
       "      <th>Open</th>\n",
       "      <th>High</th>\n",
       "      <th>Low</th>\n",
       "      <th>Close</th>\n",
       "      <th>Adj Close</th>\n",
       "      <th>Volume</th>\n",
       "      <th>return</th>\n",
       "      <th>date</th>\n",
       "    </tr>\n",
       "    <tr>\n",
       "      <th>Date</th>\n",
       "      <th></th>\n",
       "      <th></th>\n",
       "      <th></th>\n",
       "      <th></th>\n",
       "      <th></th>\n",
       "      <th></th>\n",
       "      <th></th>\n",
       "      <th></th>\n",
       "    </tr>\n",
       "  </thead>\n",
       "  <tbody>\n",
       "    <tr>\n",
       "      <th>2019-01-02</th>\n",
       "      <td>226.5</td>\n",
       "      <td>226.5</td>\n",
       "      <td>219.0</td>\n",
       "      <td>219.5</td>\n",
       "      <td>189.202316</td>\n",
       "      <td>32900482</td>\n",
       "      <td>NaN</td>\n",
       "      <td>2019-01-02</td>\n",
       "    </tr>\n",
       "    <tr>\n",
       "      <th>2019-01-03</th>\n",
       "      <td>214.0</td>\n",
       "      <td>218.0</td>\n",
       "      <td>214.0</td>\n",
       "      <td>215.5</td>\n",
       "      <td>185.754486</td>\n",
       "      <td>34087620</td>\n",
       "      <td>-0.018223</td>\n",
       "      <td>2019-01-03</td>\n",
       "    </tr>\n",
       "    <tr>\n",
       "      <th>2019-01-04</th>\n",
       "      <td>211.5</td>\n",
       "      <td>211.5</td>\n",
       "      <td>206.5</td>\n",
       "      <td>208.0</td>\n",
       "      <td>179.289703</td>\n",
       "      <td>65943521</td>\n",
       "      <td>-0.034803</td>\n",
       "      <td>2019-01-04</td>\n",
       "    </tr>\n",
       "    <tr>\n",
       "      <th>2019-01-07</th>\n",
       "      <td>212.0</td>\n",
       "      <td>214.0</td>\n",
       "      <td>211.0</td>\n",
       "      <td>213.0</td>\n",
       "      <td>183.599533</td>\n",
       "      <td>35442176</td>\n",
       "      <td>0.024038</td>\n",
       "      <td>2019-01-07</td>\n",
       "    </tr>\n",
       "    <tr>\n",
       "      <th>2019-01-08</th>\n",
       "      <td>212.0</td>\n",
       "      <td>212.5</td>\n",
       "      <td>210.0</td>\n",
       "      <td>211.0</td>\n",
       "      <td>181.875610</td>\n",
       "      <td>22694481</td>\n",
       "      <td>-0.009390</td>\n",
       "      <td>2019-01-08</td>\n",
       "    </tr>\n",
       "  </tbody>\n",
       "</table>\n",
       "</div>"
      ],
      "text/plain": [
       "             Open   High    Low  Close   Adj Close    Volume    return  \\\n",
       "Date                                                                     \n",
       "2019-01-02  226.5  226.5  219.0  219.5  189.202316  32900482       NaN   \n",
       "2019-01-03  214.0  218.0  214.0  215.5  185.754486  34087620 -0.018223   \n",
       "2019-01-04  211.5  211.5  206.5  208.0  179.289703  65943521 -0.034803   \n",
       "2019-01-07  212.0  214.0  211.0  213.0  183.599533  35442176  0.024038   \n",
       "2019-01-08  212.0  212.5  210.0  211.0  181.875610  22694481 -0.009390   \n",
       "\n",
       "                 date  \n",
       "Date                   \n",
       "2019-01-02 2019-01-02  \n",
       "2019-01-03 2019-01-03  \n",
       "2019-01-04 2019-01-04  \n",
       "2019-01-07 2019-01-07  \n",
       "2019-01-08 2019-01-08  "
      ]
     },
     "execution_count": 3,
     "metadata": {},
     "output_type": "execute_result"
    }
   ],
   "source": [
    "# 取得股票資料\n",
    "code = \"2330.TW\" \n",
    "stock_price_data = yf.download(\n",
    "    code, \n",
    "    start=\"2019-01-01\",\n",
    "    end=\"2020-01-01\"\n",
    ")  # Download data for 1 year\n",
    "stock_price_data['return'] = stock_price_data['Close'].diff() / stock_price_data['Close'].shift()\n",
    "stock_price_data[\"date\"] = stock_price_data.index.values\n",
    "stock_price_data.head()"
   ]
  },
  {
   "cell_type": "code",
   "execution_count": 4,
   "id": "4f19c95c-874b-4fb0-8ce8-0cbbaf0c1051",
   "metadata": {},
   "outputs": [
    {
     "data": {
      "text/html": [
       "<div>\n",
       "<style scoped>\n",
       "    .dataframe tbody tr th:only-of-type {\n",
       "        vertical-align: middle;\n",
       "    }\n",
       "\n",
       "    .dataframe tbody tr th {\n",
       "        vertical-align: top;\n",
       "    }\n",
       "\n",
       "    .dataframe thead th {\n",
       "        text-align: right;\n",
       "    }\n",
       "</style>\n",
       "<table border=\"1\" class=\"dataframe\">\n",
       "  <thead>\n",
       "    <tr style=\"text-align: right;\">\n",
       "      <th></th>\n",
       "      <th>Open</th>\n",
       "      <th>High</th>\n",
       "      <th>Low</th>\n",
       "      <th>Close</th>\n",
       "      <th>Adj Close</th>\n",
       "      <th>Volume</th>\n",
       "      <th>return</th>\n",
       "      <th>date</th>\n",
       "    </tr>\n",
       "  </thead>\n",
       "  <tbody>\n",
       "    <tr>\n",
       "      <th>count</th>\n",
       "      <td>241.000000</td>\n",
       "      <td>241.000000</td>\n",
       "      <td>241.000000</td>\n",
       "      <td>241.000000</td>\n",
       "      <td>241.000000</td>\n",
       "      <td>2.410000e+02</td>\n",
       "      <td>240.000000</td>\n",
       "      <td>241</td>\n",
       "    </tr>\n",
       "    <tr>\n",
       "      <th>mean</th>\n",
       "      <td>261.651452</td>\n",
       "      <td>263.255187</td>\n",
       "      <td>259.817427</td>\n",
       "      <td>261.719917</td>\n",
       "      <td>230.654965</td>\n",
       "      <td>3.112792e+07</td>\n",
       "      <td>0.001809</td>\n",
       "      <td>2019-07-06 18:37:20.663900416</td>\n",
       "    </tr>\n",
       "    <tr>\n",
       "      <th>min</th>\n",
       "      <td>211.500000</td>\n",
       "      <td>211.500000</td>\n",
       "      <td>206.500000</td>\n",
       "      <td>208.000000</td>\n",
       "      <td>179.289703</td>\n",
       "      <td>1.021880e+05</td>\n",
       "      <td>-0.034803</td>\n",
       "      <td>2019-01-02 00:00:00</td>\n",
       "    </tr>\n",
       "    <tr>\n",
       "      <th>25%</th>\n",
       "      <td>239.000000</td>\n",
       "      <td>240.000000</td>\n",
       "      <td>236.000000</td>\n",
       "      <td>239.000000</td>\n",
       "      <td>206.441727</td>\n",
       "      <td>2.267061e+07</td>\n",
       "      <td>-0.007661</td>\n",
       "      <td>2019-04-11 00:00:00</td>\n",
       "    </tr>\n",
       "    <tr>\n",
       "      <th>50%</th>\n",
       "      <td>253.000000</td>\n",
       "      <td>254.500000</td>\n",
       "      <td>251.500000</td>\n",
       "      <td>254.000000</td>\n",
       "      <td>223.250137</td>\n",
       "      <td>2.855928e+07</td>\n",
       "      <td>0.001643</td>\n",
       "      <td>2019-07-08 00:00:00</td>\n",
       "    </tr>\n",
       "    <tr>\n",
       "      <th>75%</th>\n",
       "      <td>279.500000</td>\n",
       "      <td>280.500000</td>\n",
       "      <td>277.500000</td>\n",
       "      <td>279.500000</td>\n",
       "      <td>250.813293</td>\n",
       "      <td>3.527855e+07</td>\n",
       "      <td>0.011442</td>\n",
       "      <td>2019-10-04 00:00:00</td>\n",
       "    </tr>\n",
       "    <tr>\n",
       "      <th>max</th>\n",
       "      <td>341.500000</td>\n",
       "      <td>345.000000</td>\n",
       "      <td>341.500000</td>\n",
       "      <td>345.000000</td>\n",
       "      <td>309.590637</td>\n",
       "      <td>1.012246e+08</td>\n",
       "      <td>0.039749</td>\n",
       "      <td>2019-12-31 00:00:00</td>\n",
       "    </tr>\n",
       "    <tr>\n",
       "      <th>std</th>\n",
       "      <td>31.869115</td>\n",
       "      <td>32.047039</td>\n",
       "      <td>31.868804</td>\n",
       "      <td>32.027062</td>\n",
       "      <td>31.797515</td>\n",
       "      <td>1.385824e+07</td>\n",
       "      <td>0.013889</td>\n",
       "      <td>NaN</td>\n",
       "    </tr>\n",
       "  </tbody>\n",
       "</table>\n",
       "</div>"
      ],
      "text/plain": [
       "             Open        High         Low       Close   Adj Close  \\\n",
       "count  241.000000  241.000000  241.000000  241.000000  241.000000   \n",
       "mean   261.651452  263.255187  259.817427  261.719917  230.654965   \n",
       "min    211.500000  211.500000  206.500000  208.000000  179.289703   \n",
       "25%    239.000000  240.000000  236.000000  239.000000  206.441727   \n",
       "50%    253.000000  254.500000  251.500000  254.000000  223.250137   \n",
       "75%    279.500000  280.500000  277.500000  279.500000  250.813293   \n",
       "max    341.500000  345.000000  341.500000  345.000000  309.590637   \n",
       "std     31.869115   32.047039   31.868804   32.027062   31.797515   \n",
       "\n",
       "             Volume      return                           date  \n",
       "count  2.410000e+02  240.000000                            241  \n",
       "mean   3.112792e+07    0.001809  2019-07-06 18:37:20.663900416  \n",
       "min    1.021880e+05   -0.034803            2019-01-02 00:00:00  \n",
       "25%    2.267061e+07   -0.007661            2019-04-11 00:00:00  \n",
       "50%    2.855928e+07    0.001643            2019-07-08 00:00:00  \n",
       "75%    3.527855e+07    0.011442            2019-10-04 00:00:00  \n",
       "max    1.012246e+08    0.039749            2019-12-31 00:00:00  \n",
       "std    1.385824e+07    0.013889                            NaN  "
      ]
     },
     "execution_count": 4,
     "metadata": {},
     "output_type": "execute_result"
    }
   ],
   "source": [
    "stock_price_data.describe()"
   ]
  },
  {
   "cell_type": "markdown",
   "id": "88335aaa-4fc7-4480-8c19-c31bcadf04d5",
   "metadata": {},
   "source": [
    "<br> 2.台積電的股價報酬率列聯表:\n",
    "<br>以正負報酬與上半年及下半年當分類的二個因子."
   ]
  },
  {
   "cell_type": "code",
   "execution_count": 5,
   "id": "95853e70-eefe-4022-b1a5-6a31d6ee590e",
   "metadata": {},
   "outputs": [
    {
     "name": "stdout",
     "output_type": "stream",
     "text": [
      "Q2        First Half  Second Half\n",
      "Q1                               \n",
      "Negative          57           63\n",
      "Positive          58           63\n"
     ]
    }
   ],
   "source": [
    "# Q1: 使用 np.where() 來根據報酬率分類\n",
    "stock_price_data['Q1'] = np.where(stock_price_data['return'] > 0, 'Positive', 'Negative')\n",
    "\n",
    "# Q2: 分成上半年(1-6月)和下半年(7-12月)\n",
    "stock_price_data['Q2'] = np.where(stock_price_data['date'].dt.month <= 6, 'First Half', 'Second Half')\n",
    "\n",
    "\n",
    "\n",
    "# 創建列聯表\n",
    "contingency_table = pd.crosstab(stock_price_data['Q1'], stock_price_data['Q2'])\n",
    "\n",
    "print(contingency_table)"
   ]
  },
  {
   "cell_type": "markdown",
   "id": "86f728eb-af9d-43e6-835a-5b48e5cb3f40",
   "metadata": {},
   "source": [
    "3. plot the histogram of tsmc"
   ]
  },
  {
   "cell_type": "code",
   "execution_count": 6,
   "id": "0f72e713-228a-4b50-a950-80673934d2a1",
   "metadata": {},
   "outputs": [],
   "source": [
    "import matplotlib.pyplot as plt"
   ]
  },
  {
   "cell_type": "code",
   "execution_count": 9,
   "id": "de34c8a1-6713-495f-8605-a18792afcf66",
   "metadata": {},
   "outputs": [
    {
     "data": {
      "image/png": "[encoded data removed]",
      "text/plain": [
       "<Figure size 800x600 with 1 Axes>"
      ]
     },
     "metadata": {},
     "output_type": "display_data"
    }
   ],
   "source": [
    "plt.figure(figsize=(8,6))\n",
    "plt.hist(stock_price_data['return'], bins=50, edgecolor='black', alpha=0.7)\n",
    "plt.title('Histogram of TSMC Stock Returns')\n",
    "plt.xlabel('Returns')\n",
    "plt.ylabel('Frequency')\n",
    "plt.grid(True)\n",
    "plt.show()"
   ]
  },
  {
   "cell_type": "markdown",
   "id": "3a87760a-af92-4bcd-b369-c39f0b2c563f",
   "metadata": {},
   "source": [
    "4. Find integrate (exp(1/2*t2), t=-1..0) "
   ]
  },
  {
   "cell_type": "code",
   "execution_count": 11,
   "id": "ae9a2a55-b239-4aba-a97b-b1c05d7149a6",
   "metadata": {},
   "outputs": [],
   "source": [
    "import sympy as sp"
   ]
  },
  {
   "cell_type": "code",
   "execution_count": 13,
   "id": "f9cde86c-a1c3-4e23-b4db-74f0678bf060",
   "metadata": {},
   "outputs": [
    {
     "name": "stdout",
     "output_type": "stream",
     "text": [
      "積分結果: 1.194958\n",
      "估計誤差: 1.326670e-14\n"
     ]
    }
   ],
   "source": [
    "import numpy as np\n",
    "from scipy import integrate\n",
    "\n",
    "# 定義被積分函數\n",
    "def integrand(t):\n",
    "    return np.exp(0.5 * t**2)\n",
    "\n",
    "# 計算積分\n",
    "result, error = integrate.quad(integrand, -1, 0)\n",
    "\n",
    "print(f\"積分結果: {result:.6f}\")\n",
    "print(f\"估計誤差: {error:.6e}\")"
   ]
  },
  {
   "cell_type": "markdown",
   "id": "84ca8530-85a8-41a4-8acc-1bcc30df4968",
   "metadata": {},
   "source": [
    "5. find the MGF function of standard normal Z i.e., int( exp(xt) *dnorm)==>get: exp1/2*t2\n",
    "and plot its MGF :exp(1/2*t2) as t=-1…1\n"
   ]
  },
  {
   "cell_type": "code",
   "execution_count": 15,
   "id": "8806e495-bf92-40ac-8091-87709d36c9ce",
   "metadata": {},
   "outputs": [
    {
     "data": {
      "image/png": "[encoded data removed]",
      "text/plain": [
       "<Figure size 1000x600 with 1 Axes>"
      ]
     },
     "metadata": {},
     "output_type": "display_data"
    },
    {
     "name": "stdout",
     "output_type": "stream",
     "text": [
      "數值解和理論解的最大絕對誤差: 4.440892098500626e-16\n"
     ]
    }
   ],
   "source": [
    "import numpy as np\n",
    "from scipy import integrate\n",
    "import matplotlib.pyplot as plt\n",
    "\n",
    "def integrand(x, t):\n",
    "    # exp(xt) * dnorm(x)\n",
    "    return np.exp(x*t) * (1/np.sqrt(2*np.pi)) * np.exp(-x**2/2)\n",
    "\n",
    "# 計算不同t值的MGF\n",
    "t_values = np.linspace(-1, 1, 100)\n",
    "mgf_values = []\n",
    "\n",
    "for t in t_values:\n",
    "    # 積分區間取 [-10, 10]，因為標準常態分配在這個範圍外的機率很小\n",
    "    result, _ = integrate.quad(integrand, -10, 10, args=(t,))\n",
    "    mgf_values.append(result)\n",
    "\n",
    "# 理論MGF值\n",
    "theoretical_mgf = np.exp(t_values**2/2)\n",
    "\n",
    "# 繪圖\n",
    "plt.figure(figsize=(10, 6))\n",
    "plt.plot(t_values, mgf_values, 'b-', label='Numerical Integration')\n",
    "plt.plot(t_values, theoretical_mgf, 'r--', label='Theoretical: exp(t²/2)')\n",
    "plt.xlabel('t')\n",
    "plt.ylabel('MGF(t)')\n",
    "plt.title('Moment Generating Function of Standard Normal Distribution')\n",
    "plt.legend()\n",
    "plt.grid(True)\n",
    "plt.show()\n",
    "\n",
    "# 驗證數值解和理論解的差異\n",
    "print(\"數值解和理論解的最大絕對誤差:\", np.max(np.abs(np.array(mgf_values) - theoretical_mgf)))"
   ]
  },
  {
   "cell_type": "markdown",
   "id": "8eb5049e-9f31-4765-8eaf-d424e49f8014",
   "metadata": {},
   "source": [
    "6. Find the mean and variance given the data you found above using normal likelihood MLE and solving with  optim or maxlik."
   ]
  },
  {
   "cell_type": "code",
   "execution_count": 17,
   "id": "b7fd3786-b280-4c93-82e5-642caf3dc026",
   "metadata": {},
   "outputs": [
    {
     "name": "stdout",
     "output_type": "stream",
     "text": [
      "真實均值: 0.0000\n",
      "估計均值: 0.0193\n",
      "真實標準差: 1.0000\n",
      "估計標準差: 0.9787\n",
      "\n",
      "最佳化結果:\n",
      "收斂狀態: True\n",
      "迭代次數: 33\n"
     ]
    }
   ],
   "source": [
    "import numpy as np\n",
    "from scipy import optimize\n",
    "\n",
    "# 生成一些模擬數據\n",
    "np.random.seed(42)\n",
    "true_mean = 0\n",
    "true_std = 1\n",
    "n_samples = 1000\n",
    "data = np.random.normal(true_mean, true_std, n_samples)\n",
    "\n",
    "def negative_log_likelihood(params, data):\n",
    "    \"\"\"計算負對數似然函數\"\"\"\n",
    "    mu, sigma = params\n",
    "    if sigma <= 0:  # 確保標準差為正\n",
    "        return np.inf\n",
    "    \n",
    "    return -np.sum((-0.5 * np.log(2 * np.pi) - \n",
    "                    np.log(sigma) - \n",
    "                    (data - mu)**2 / (2 * sigma**2)))\n",
    "\n",
    "# 初始猜測值\n",
    "initial_guess = [0.1, 1.1]  # [mu, sigma]\n",
    "\n",
    "# 使用scipy.optimize來最小化負對數似然函數\n",
    "result = optimize.minimize(negative_log_likelihood, \n",
    "                         initial_guess,\n",
    "                         args=(data,),\n",
    "                         method='Nelder-Mead')\n",
    "\n",
    "# 獲取估計結果\n",
    "estimated_mean, estimated_std = result.x\n",
    "\n",
    "print(f\"真實均值: {true_mean:.4f}\")\n",
    "print(f\"估計均值: {estimated_mean:.4f}\")\n",
    "print(f\"真實標準差: {true_std:.4f}\")\n",
    "print(f\"估計標準差: {estimated_std:.4f}\")\n",
    "print(\"\\n最佳化結果:\")\n",
    "print(f\"收斂狀態: {result.success}\")\n",
    "print(f\"迭代次數: {result.nit}\")"
   ]
  },
  {
   "cell_type": "code",
   "execution_count": null,
   "id": "b1e182b4-e044-416d-a687-92b69731120f",
   "metadata": {},
   "outputs": [],
   "source": []
  }
 ],
 "metadata": {
  "kernelspec": {
   "display_name": "Python 3 (ipykernel)",
   "language": "python",
   "name": "python3"
  },
  "language_info": {
   "codemirror_mode": {
    "name": "ipython",
    "version": 3
   },
   "file_extension": ".py",
   "mimetype": "text/x-python",
   "name": "python",
   "nbconvert_exporter": "python",
   "pygments_lexer": "ipython3",
   "version": "3.11.9"
  }
 },
 "nbformat": 4,
 "nbformat_minor": 5
}
