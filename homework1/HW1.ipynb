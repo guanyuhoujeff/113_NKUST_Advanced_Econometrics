{
 "cells": [
  {
   "cell_type": "markdown",
   "id": "674b518a-ba19-41db-8c78-a0ff83bf5c30",
   "metadata": {},
   "source": [
    "![範例圖片](https://github.com/guanyuhoujeff/113_NKUST_Advanced_Econometrics/blob/main/homework1/HW1-exam.png?raw=true)"
   ]
  },
  {
   "cell_type": "code",
   "execution_count": null,
   "id": "cfe34edb-870f-4545-b88d-4ee9f6983608",
   "metadata": {},
   "outputs": [],
   "source": [
    "!pip install scipy"
   ]
  },
  {
   "cell_type": "code",
   "execution_count": 1,
   "id": "e1ee98af-d390-4e27-b968-de647fbf478e",
   "metadata": {},
   "outputs": [],
   "source": [
    "import numpy as np\n",
    "from scipy.linalg import lu"
   ]
  },
  {
   "cell_type": "markdown",
   "id": "d39a1e23-0640-4c21-a98d-9456112e9c64",
   "metadata": {},
   "source": [
    "# 1:"
   ]
  },
  {
   "cell_type": "markdown",
   "id": "0241d354-8ab9-4906-b8f0-46a5ebd9085c",
   "metadata": {},
   "source": [
    "Define matrix A"
   ]
  },
  {
   "cell_type": "code",
   "execution_count": 7,
   "id": "917ba659-e201-4fec-8fb7-2c6ba5a0919a",
   "metadata": {},
   "outputs": [],
   "source": [
    "A = np.array(\n",
    "    [[5, 9], \n",
    "     [9, 7]]\n",
    ")"
   ]
  },
  {
   "cell_type": "markdown",
   "id": "a9c7dca7-bff0-4094-a530-511b9289f56e",
   "metadata": {},
   "source": [
    "### 1(a) Inverse of A"
   ]
  },
  {
   "cell_type": "code",
   "execution_count": 8,
   "id": "fbe0e522-ca04-4b09-9bec-dff94a76f4b9",
   "metadata": {},
   "outputs": [
    {
     "name": "stdout",
     "output_type": "stream",
     "text": [
      "Inverse of A:\n",
      "[[-0.15217391  0.19565217]\n",
      " [ 0.19565217 -0.10869565]]\n"
     ]
    }
   ],
   "source": [
    "A_inv = np.linalg.inv(A)\n",
    "print('Inverse of A:')\n",
    "print(A_inv)"
   ]
  },
  {
   "cell_type": "markdown",
   "id": "6383e64c-2141-4f3f-bf13-e55c7e3ff446",
   "metadata": {},
   "source": [
    "### 1(b) Eigen values of A"
   ]
  },
  {
   "cell_type": "code",
   "execution_count": 9,
   "id": "3d8b54b6-2eb9-42cd-b15a-393a0f6b93a3",
   "metadata": {},
   "outputs": [
    {
     "name": "stdout",
     "output_type": "stream",
     "text": [
      "Eigen values of A: [-3.05538514 15.05538514]\n"
     ]
    }
   ],
   "source": [
    "eigen_values, _ = np.linalg.eig(A)\n",
    "print(f'Eigen values of A: {eigen_values}')"
   ]
  },
  {
   "cell_type": "markdown",
   "id": "5a1a1de6-c719-4046-ba35-292f2919719d",
   "metadata": {},
   "source": [
    "# 2. Solve Ax = b where b = [2, 3]"
   ]
  },
  {
   "cell_type": "code",
   "execution_count": 10,
   "id": "47c9bf79-7e75-4dde-9528-01c1c78f38db",
   "metadata": {},
   "outputs": [
    {
     "name": "stdout",
     "output_type": "stream",
     "text": [
      "Solution of Ax = b: x =\n",
      "[0.2826087  0.06521739]\n"
     ]
    }
   ],
   "source": [
    "b = np.array([2, 3])\n",
    "x = np.linalg.solve(A, b)\n",
    "print('Solution of Ax = b: x =')\n",
    "print(x)"
   ]
  },
  {
   "cell_type": "markdown",
   "id": "c80bf6ea-9fe5-4aa3-a183-ffc4f264f739",
   "metadata": {},
   "source": [
    "# 3. Find L and U of A using LU decomposition"
   ]
  },
  {
   "cell_type": "code",
   "execution_count": 12,
   "id": "ce89a60d-07a8-444a-a7ac-b20ef84abd0f",
   "metadata": {},
   "outputs": [
    {
     "name": "stdout",
     "output_type": "stream",
     "text": [
      "L matrix:\n",
      "[[1.         0.        ]\n",
      " [0.55555556 1.        ]]\n",
      "\n",
      "U matrix:\n",
      "[[9.         7.        ]\n",
      " [0.         5.11111111]]\n"
     ]
    }
   ],
   "source": [
    "_, L, U = lu(A)\n",
    "print('L matrix:')\n",
    "print(L)\n",
    "print()\n",
    "print('U matrix:')\n",
    "print(U)"
   ]
  },
  {
   "cell_type": "code",
   "execution_count": null,
   "id": "a1ac0488-d3e9-4365-aee3-41439dfa55f5",
   "metadata": {},
   "outputs": [],
   "source": []
  }
 ],
 "metadata": {
  "kernelspec": {
   "display_name": "Python 3 (ipykernel)",
   "language": "python",
   "name": "python3"
  },
  "language_info": {
   "codemirror_mode": {
    "name": "ipython",
    "version": 3
   },
   "file_extension": ".py",
   "mimetype": "text/x-python",
   "name": "python",
   "nbconvert_exporter": "python",
   "pygments_lexer": "ipython3",
   "version": "3.11.9"
  }
 },
 "nbformat": 4,
 "nbformat_minor": 5
}
